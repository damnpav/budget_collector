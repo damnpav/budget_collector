{
 "cells": [
  {
   "cell_type": "code",
   "outputs": [],
   "source": [
    "import pandas as pd"
   ],
   "metadata": {
    "collapsed": false,
    "ExecuteTime": {
     "end_time": "2025-06-22T14:46:32.944895Z",
     "start_time": "2025-06-22T14:46:32.617082Z"
    }
   },
   "id": "aaef5cc0250cb4b",
   "execution_count": 1
  },
  {
   "cell_type": "markdown",
   "source": [
    "# Load Data"
   ],
   "metadata": {
    "collapsed": false
   },
   "id": "80440f080bfcb8bf"
  },
  {
   "cell_type": "code",
   "outputs": [
    {
     "name": "stderr",
     "output_type": "stream",
     "text": [
      "/Users/dp_user/PycharmProjects/broken_cars/.venv/lib/python3.11/site-packages/openpyxl/styles/stylesheet.py:237: UserWarning: Workbook contains no default style, apply openpyxl's default\n",
      "  warn(\"Workbook contains no default style, apply openpyxl's default\")\n"
     ]
    }
   ],
   "source": [
    "hell_df = pd.read_excel(f'../data/trans2206.xlsx') #, converters={'Debit amount': float})"
   ],
   "metadata": {
    "collapsed": false,
    "ExecuteTime": {
     "end_time": "2025-06-22T14:47:04.980351Z",
     "start_time": "2025-06-22T14:47:04.875005Z"
    }
   },
   "id": "41a0dd4aedd93a98",
   "execution_count": 5
  },
  {
   "cell_type": "code",
   "outputs": [],
   "source": [
    "hell_df['Debit amount'] = pd.to_numeric(hell_df['Debit amount'].str.replace(',', '.'))"
   ],
   "metadata": {
    "collapsed": false,
    "ExecuteTime": {
     "end_time": "2025-06-22T14:47:05.047372Z",
     "start_time": "2025-06-22T14:47:05.041882Z"
    }
   },
   "id": "1ce6718504bc64c",
   "execution_count": 6
  },
  {
   "cell_type": "code",
   "outputs": [],
   "source": [
    "hell_df1 = hell_df.loc[hell_df['Debit amount']<0].copy()"
   ],
   "metadata": {
    "collapsed": false,
    "ExecuteTime": {
     "end_time": "2025-06-22T14:47:05.200221Z",
     "start_time": "2025-06-22T14:47:05.196276Z"
    }
   },
   "id": "c2402fae7c25eda6",
   "execution_count": 7
  },
  {
   "cell_type": "code",
   "outputs": [
    {
     "data": {
      "text/plain": "(100, 9)"
     },
     "execution_count": 8,
     "metadata": {},
     "output_type": "execute_result"
    }
   ],
   "source": [
    "hell_df.shape"
   ],
   "metadata": {
    "collapsed": false,
    "ExecuteTime": {
     "end_time": "2025-06-22T14:47:17.116982Z",
     "start_time": "2025-06-22T14:47:17.097828Z"
    }
   },
   "id": "718996941b7b216a",
   "execution_count": 8
  },
  {
   "cell_type": "code",
   "outputs": [
    {
     "data": {
      "text/plain": "(96, 9)"
     },
     "execution_count": 9,
     "metadata": {},
     "output_type": "execute_result"
    }
   ],
   "source": [
    "hell_df1.shape"
   ],
   "metadata": {
    "collapsed": false,
    "ExecuteTime": {
     "end_time": "2025-06-22T14:47:22.697496Z",
     "start_time": "2025-06-22T14:47:22.681722Z"
    }
   },
   "id": "2137880bb505c1f0",
   "execution_count": 9
  },
  {
   "cell_type": "code",
   "outputs": [
    {
     "name": "stderr",
     "output_type": "stream",
     "text": [
      "/var/folders/0d/nn90v_dn4y56s_xnhsv23lf00000gn/T/ipykernel_7295/2530848403.py:1: UserWarning: Parsing dates in %d/%m/%Y format when dayfirst=False (the default) was specified. Pass `dayfirst=True` or specify a format to silence this warning.\n",
      "  hell_df1['Date'] = pd.to_datetime(hell_df1['Date'], '%m/%d/%Y')\n"
     ]
    },
    {
     "ename": "AssertionError",
     "evalue": "",
     "output_type": "error",
     "traceback": [
      "\u001B[31m---------------------------------------------------------------------------\u001B[39m",
      "\u001B[31mAssertionError\u001B[39m                            Traceback (most recent call last)",
      "\u001B[36mCell\u001B[39m\u001B[36m \u001B[39m\u001B[32mIn[10]\u001B[39m\u001B[32m, line 1\u001B[39m\n\u001B[32m----> \u001B[39m\u001B[32m1\u001B[39m hell_df1[\u001B[33m'\u001B[39m\u001B[33mDate\u001B[39m\u001B[33m'\u001B[39m] = \u001B[43mpd\u001B[49m\u001B[43m.\u001B[49m\u001B[43mto_datetime\u001B[49m\u001B[43m(\u001B[49m\u001B[43mhell_df1\u001B[49m\u001B[43m[\u001B[49m\u001B[33;43m'\u001B[39;49m\u001B[33;43mDate\u001B[39;49m\u001B[33;43m'\u001B[39;49m\u001B[43m]\u001B[49m\u001B[43m,\u001B[49m\u001B[43m \u001B[49m\u001B[33;43m'\u001B[39;49m\u001B[33;43m%\u001B[39;49m\u001B[33;43mm/\u001B[39;49m\u001B[38;5;132;43;01m%d\u001B[39;49;00m\u001B[33;43m/\u001B[39;49m\u001B[33;43m%\u001B[39;49m\u001B[33;43mY\u001B[39;49m\u001B[33;43m'\u001B[39;49m\u001B[43m)\u001B[49m\n",
      "\u001B[36mFile \u001B[39m\u001B[32m~/PycharmProjects/broken_cars/.venv/lib/python3.11/site-packages/pandas/core/tools/datetimes.py:1063\u001B[39m, in \u001B[36mto_datetime\u001B[39m\u001B[34m(arg, errors, dayfirst, yearfirst, utc, format, exact, unit, infer_datetime_format, origin, cache)\u001B[39m\n\u001B[32m   1061\u001B[39m             result = arg.tz_localize(\u001B[33m\"\u001B[39m\u001B[33mutc\u001B[39m\u001B[33m\"\u001B[39m)\n\u001B[32m   1062\u001B[39m \u001B[38;5;28;01melif\u001B[39;00m \u001B[38;5;28misinstance\u001B[39m(arg, ABCSeries):\n\u001B[32m-> \u001B[39m\u001B[32m1063\u001B[39m     cache_array = \u001B[43m_maybe_cache\u001B[49m\u001B[43m(\u001B[49m\u001B[43marg\u001B[49m\u001B[43m,\u001B[49m\u001B[43m \u001B[49m\u001B[38;5;28;43mformat\u001B[39;49m\u001B[43m,\u001B[49m\u001B[43m \u001B[49m\u001B[43mcache\u001B[49m\u001B[43m,\u001B[49m\u001B[43m \u001B[49m\u001B[43mconvert_listlike\u001B[49m\u001B[43m)\u001B[49m\n\u001B[32m   1064\u001B[39m     \u001B[38;5;28;01mif\u001B[39;00m \u001B[38;5;129;01mnot\u001B[39;00m cache_array.empty:\n\u001B[32m   1065\u001B[39m         result = arg.map(cache_array)\n",
      "\u001B[36mFile \u001B[39m\u001B[32m~/PycharmProjects/broken_cars/.venv/lib/python3.11/site-packages/pandas/core/tools/datetimes.py:247\u001B[39m, in \u001B[36m_maybe_cache\u001B[39m\u001B[34m(arg, format, cache, convert_listlike)\u001B[39m\n\u001B[32m    245\u001B[39m unique_dates = unique(arg)\n\u001B[32m    246\u001B[39m \u001B[38;5;28;01mif\u001B[39;00m \u001B[38;5;28mlen\u001B[39m(unique_dates) < \u001B[38;5;28mlen\u001B[39m(arg):\n\u001B[32m--> \u001B[39m\u001B[32m247\u001B[39m     cache_dates = \u001B[43mconvert_listlike\u001B[49m\u001B[43m(\u001B[49m\u001B[43munique_dates\u001B[49m\u001B[43m,\u001B[49m\u001B[43m \u001B[49m\u001B[38;5;28;43mformat\u001B[39;49m\u001B[43m)\u001B[49m\n\u001B[32m    248\u001B[39m     \u001B[38;5;66;03m# GH#45319\u001B[39;00m\n\u001B[32m    249\u001B[39m     \u001B[38;5;28;01mtry\u001B[39;00m:\n",
      "\u001B[36mFile \u001B[39m\u001B[32m~/PycharmProjects/broken_cars/.venv/lib/python3.11/site-packages/pandas/core/tools/datetimes.py:433\u001B[39m, in \u001B[36m_convert_listlike_datetimes\u001B[39m\u001B[34m(arg, format, name, utc, unit, errors, dayfirst, yearfirst, exact)\u001B[39m\n\u001B[32m    431\u001B[39m \u001B[38;5;66;03m# `format` could be inferred, or user didn't ask for mixed-format parsing.\u001B[39;00m\n\u001B[32m    432\u001B[39m \u001B[38;5;28;01mif\u001B[39;00m \u001B[38;5;28mformat\u001B[39m \u001B[38;5;129;01mis\u001B[39;00m \u001B[38;5;129;01mnot\u001B[39;00m \u001B[38;5;28;01mNone\u001B[39;00m \u001B[38;5;129;01mand\u001B[39;00m \u001B[38;5;28mformat\u001B[39m != \u001B[33m\"\u001B[39m\u001B[33mmixed\u001B[39m\u001B[33m\"\u001B[39m:\n\u001B[32m--> \u001B[39m\u001B[32m433\u001B[39m     \u001B[38;5;28;01mreturn\u001B[39;00m \u001B[43m_array_strptime_with_fallback\u001B[49m\u001B[43m(\u001B[49m\u001B[43marg\u001B[49m\u001B[43m,\u001B[49m\u001B[43m \u001B[49m\u001B[43mname\u001B[49m\u001B[43m,\u001B[49m\u001B[43m \u001B[49m\u001B[43mutc\u001B[49m\u001B[43m,\u001B[49m\u001B[43m \u001B[49m\u001B[38;5;28;43mformat\u001B[39;49m\u001B[43m,\u001B[49m\u001B[43m \u001B[49m\u001B[43mexact\u001B[49m\u001B[43m,\u001B[49m\u001B[43m \u001B[49m\u001B[43merrors\u001B[49m\u001B[43m)\u001B[49m\n\u001B[32m    435\u001B[39m result, tz_parsed = objects_to_datetime64(\n\u001B[32m    436\u001B[39m     arg,\n\u001B[32m    437\u001B[39m     dayfirst=dayfirst,\n\u001B[32m   (...)\u001B[39m\u001B[32m    441\u001B[39m     allow_object=\u001B[38;5;28;01mTrue\u001B[39;00m,\n\u001B[32m    442\u001B[39m )\n\u001B[32m    444\u001B[39m \u001B[38;5;28;01mif\u001B[39;00m tz_parsed \u001B[38;5;129;01mis\u001B[39;00m \u001B[38;5;129;01mnot\u001B[39;00m \u001B[38;5;28;01mNone\u001B[39;00m:\n\u001B[32m    445\u001B[39m     \u001B[38;5;66;03m# We can take a shortcut since the datetime64 numpy array\u001B[39;00m\n\u001B[32m    446\u001B[39m     \u001B[38;5;66;03m# is in UTC\u001B[39;00m\n",
      "\u001B[36mFile \u001B[39m\u001B[32m~/PycharmProjects/broken_cars/.venv/lib/python3.11/site-packages/pandas/core/tools/datetimes.py:467\u001B[39m, in \u001B[36m_array_strptime_with_fallback\u001B[39m\u001B[34m(arg, name, utc, fmt, exact, errors)\u001B[39m\n\u001B[32m    456\u001B[39m \u001B[38;5;28;01mdef\u001B[39;00m\u001B[38;5;250m \u001B[39m\u001B[34m_array_strptime_with_fallback\u001B[39m(\n\u001B[32m    457\u001B[39m     arg,\n\u001B[32m    458\u001B[39m     name,\n\u001B[32m   (...)\u001B[39m\u001B[32m    462\u001B[39m     errors: \u001B[38;5;28mstr\u001B[39m,\n\u001B[32m    463\u001B[39m ) -> Index:\n\u001B[32m    464\u001B[39m \u001B[38;5;250m    \u001B[39m\u001B[33;03m\"\"\"\u001B[39;00m\n\u001B[32m    465\u001B[39m \u001B[33;03m    Call array_strptime, with fallback behavior depending on 'errors'.\u001B[39;00m\n\u001B[32m    466\u001B[39m \u001B[33;03m    \"\"\"\u001B[39;00m\n\u001B[32m--> \u001B[39m\u001B[32m467\u001B[39m     result, tz_out = \u001B[43marray_strptime\u001B[49m\u001B[43m(\u001B[49m\u001B[43marg\u001B[49m\u001B[43m,\u001B[49m\u001B[43m \u001B[49m\u001B[43mfmt\u001B[49m\u001B[43m,\u001B[49m\u001B[43m \u001B[49m\u001B[43mexact\u001B[49m\u001B[43m=\u001B[49m\u001B[43mexact\u001B[49m\u001B[43m,\u001B[49m\u001B[43m \u001B[49m\u001B[43merrors\u001B[49m\u001B[43m=\u001B[49m\u001B[43merrors\u001B[49m\u001B[43m,\u001B[49m\u001B[43m \u001B[49m\u001B[43mutc\u001B[49m\u001B[43m=\u001B[49m\u001B[43mutc\u001B[49m\u001B[43m)\u001B[49m\n\u001B[32m    468\u001B[39m     \u001B[38;5;28;01mif\u001B[39;00m tz_out \u001B[38;5;129;01mis\u001B[39;00m \u001B[38;5;129;01mnot\u001B[39;00m \u001B[38;5;28;01mNone\u001B[39;00m:\n\u001B[32m    469\u001B[39m         unit = np.datetime_data(result.dtype)[\u001B[32m0\u001B[39m]\n",
      "\u001B[36mFile \u001B[39m\u001B[32mstrptime.pyx:337\u001B[39m, in \u001B[36mpandas._libs.tslibs.strptime.array_strptime\u001B[39m\u001B[34m()\u001B[39m\n",
      "\u001B[31mAssertionError\u001B[39m: "
     ]
    }
   ],
   "source": [
    "hell_df1['Date'] = pd.to_datetime(hell_df1['Date'], '%m/%d/%Y')"
   ],
   "metadata": {
    "collapsed": false,
    "ExecuteTime": {
     "end_time": "2025-06-22T14:47:34.580836Z",
     "start_time": "2025-06-22T14:47:34.451033Z"
    }
   },
   "id": "2f373f65f274a9a5",
   "execution_count": 10
  },
  {
   "cell_type": "code",
   "outputs": [
    {
     "name": "stderr",
     "output_type": "stream",
     "text": [
      "/var/folders/0d/nn90v_dn4y56s_xnhsv23lf00000gn/T/ipykernel_7295/1521031898.py:1: FutureWarning: The provided callable <built-in function sum> is currently using SeriesGroupBy.sum. In a future version of pandas, the provided callable will be used directly. To keep current behavior pass the string \"sum\" instead.\n",
      "  hell_d1_gr = hell_df1.groupby('Date').agg(euro_sum=('Debit amount', sum),\n"
     ]
    }
   ],
   "source": [
    "hell_d1_gr = hell_df1.groupby('Date').agg(euro_sum=('Debit amount', sum),\n",
    "                                          positions=('Description', list)\n",
    "                                          )"
   ],
   "metadata": {
    "collapsed": false,
    "ExecuteTime": {
     "end_time": "2025-06-22T14:48:02.867524Z",
     "start_time": "2025-06-22T14:48:02.840340Z"
    }
   },
   "id": "3bea4393e327e64",
   "execution_count": 11
  },
  {
   "cell_type": "code",
   "outputs": [],
   "source": [
    "hell_d1_gr = hell_d1_gr.reset_index()"
   ],
   "metadata": {
    "collapsed": false,
    "ExecuteTime": {
     "end_time": "2025-06-22T14:48:14.844838Z",
     "start_time": "2025-06-22T14:48:14.833347Z"
    }
   },
   "id": "d620b7290a61c303",
   "execution_count": 12
  },
  {
   "cell_type": "code",
   "outputs": [],
   "source": [
    "hell_d1_gr['positions'] = hell_d1_gr['positions'].astype(str).\\\n",
    "                          str.replace('[', ''). str.replace(']', '')"
   ],
   "metadata": {
    "collapsed": false,
    "ExecuteTime": {
     "end_time": "2025-06-22T14:48:14.988504Z",
     "start_time": "2025-06-22T14:48:14.983610Z"
    }
   },
   "id": "8eab99b1418f420",
   "execution_count": 13
  },
  {
   "cell_type": "code",
   "outputs": [],
   "source": [
    "hell_d1_gr.to_excel(f'../data/formatted_transactions_june.xlsx', index=False)"
   ],
   "metadata": {
    "collapsed": false,
    "ExecuteTime": {
     "end_time": "2025-06-22T14:48:21.207535Z",
     "start_time": "2025-06-22T14:48:21.175241Z"
    }
   },
   "id": "a6bfc38506e857e9",
   "execution_count": 14
  },
  {
   "cell_type": "code",
   "outputs": [],
   "source": [
    "# todo - append transactitonn ttransnlnvia chhat"
   ],
   "metadata": {
    "collapsed": false
   },
   "id": "70996a588e6fee0c"
  }
 ],
 "metadata": {
  "kernelspec": {
   "display_name": "Python 3",
   "language": "python",
   "name": "python3"
  },
  "language_info": {
   "codemirror_mode": {
    "name": "ipython",
    "version": 2
   },
   "file_extension": ".py",
   "mimetype": "text/x-python",
   "name": "python",
   "nbconvert_exporter": "python",
   "pygments_lexer": "ipython2",
   "version": "2.7.6"
  }
 },
 "nbformat": 4,
 "nbformat_minor": 5
}
