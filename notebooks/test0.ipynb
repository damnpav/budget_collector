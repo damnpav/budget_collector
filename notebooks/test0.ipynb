{
 "cells": [
  {
   "cell_type": "markdown",
   "source": [
    "# Import"
   ],
   "metadata": {
    "collapsed": false
   },
   "id": "afe22a54536a16a3"
  },
  {
   "cell_type": "code",
   "outputs": [],
   "source": [
    "import sys"
   ],
   "metadata": {
    "collapsed": false
   },
   "id": "df6afb842406169b"
  },
  {
   "cell_type": "code",
   "outputs": [],
   "source": [
    "sys.path.insert(0, '../')"
   ],
   "metadata": {
    "collapsed": false,
    "ExecuteTime": {
     "end_time": "2024-12-02T18:59:07.657127Z",
     "start_time": "2024-12-02T18:59:07.647453Z"
    }
   },
   "id": "3ffd667b209052bf",
   "execution_count": 3
  },
  {
   "cell_type": "code",
   "outputs": [],
   "source": [
    "from budget import BudgetDB"
   ],
   "metadata": {
    "collapsed": false,
    "ExecuteTime": {
     "end_time": "2024-12-02T18:59:47.455677Z",
     "start_time": "2024-12-02T18:59:47.448954Z"
    }
   },
   "id": "c95ec5a3ab7e6e34",
   "execution_count": 4
  },
  {
   "cell_type": "markdown",
   "source": [
    "# Connect DB"
   ],
   "metadata": {
    "collapsed": false
   },
   "id": "2e9c63866e6aceb4"
  },
  {
   "cell_type": "code",
   "outputs": [],
   "source": [
    "db = BudgetDB('../budget.db')"
   ],
   "metadata": {
    "collapsed": false,
    "ExecuteTime": {
     "end_time": "2024-12-02T19:09:08.042581Z",
     "start_time": "2024-12-02T19:09:08.037576Z"
    }
   },
   "id": "ab0681f7b2e136c9",
   "execution_count": 9
  },
  {
   "cell_type": "code",
   "outputs": [],
   "source": [
    "db.connect()"
   ],
   "metadata": {
    "collapsed": false,
    "ExecuteTime": {
     "end_time": "2024-12-02T19:09:08.782289Z",
     "start_time": "2024-12-02T19:09:08.777381Z"
    }
   },
   "id": "b2e259a2ee312da1",
   "execution_count": 10
  },
  {
   "cell_type": "markdown",
   "source": [
    "# Insert Cash / Credit"
   ],
   "metadata": {
    "collapsed": false
   },
   "id": "fb8ec253d641d767"
  },
  {
   "cell_type": "code",
   "outputs": [],
   "source": [
    "db.insert_cash('Yandex', 150_000, '2024-12-02')"
   ],
   "metadata": {
    "collapsed": false,
    "ExecuteTime": {
     "end_time": "2024-12-02T19:09:25.021615Z",
     "start_time": "2024-12-02T19:09:25.013294Z"
    }
   },
   "id": "2af4ac1d5d079487",
   "execution_count": 11
  },
  {
   "cell_type": "code",
   "outputs": [],
   "source": [
    "db.close()"
   ],
   "metadata": {
    "collapsed": false,
    "ExecuteTime": {
     "end_time": "2024-12-02T19:07:38.444522Z",
     "start_time": "2024-12-02T19:07:38.438485Z"
    }
   },
   "id": "6bb1429244672d76",
   "execution_count": 8
  },
  {
   "cell_type": "code",
   "outputs": [],
   "source": [
    "db.insert_credit('Sber', 450_000, 115_000, '2024-12-31')"
   ],
   "metadata": {
    "collapsed": false,
    "ExecuteTime": {
     "end_time": "2024-12-02T19:11:51.365905Z",
     "start_time": "2024-12-02T19:11:51.358727Z"
    }
   },
   "id": "46e53a2f15c4d5e1",
   "execution_count": 13
  },
  {
   "cell_type": "code",
   "outputs": [],
   "source": [],
   "metadata": {
    "collapsed": false,
    "ExecuteTime": {
     "end_time": "2024-12-02T19:07:39.311026Z",
     "start_time": "2024-12-02T19:07:39.307432Z"
    }
   },
   "id": "6bfd213f237f624a",
   "execution_count": 8
  },
  {
   "cell_type": "code",
   "outputs": [],
   "source": [],
   "metadata": {
    "collapsed": false
   },
   "id": "c89a2381806e9f12"
  }
 ],
 "metadata": {
  "kernelspec": {
   "name": "budget_collector",
   "language": "python",
   "display_name": "budget_collector"
  },
  "language_info": {
   "codemirror_mode": {
    "name": "ipython",
    "version": 2
   },
   "file_extension": ".py",
   "mimetype": "text/x-python",
   "name": "python",
   "nbconvert_exporter": "python",
   "pygments_lexer": "ipython2",
   "version": "2.7.6"
  }
 },
 "nbformat": 4,
 "nbformat_minor": 5
}
